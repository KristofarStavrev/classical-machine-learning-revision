{
 "cells": [
  {
   "cell_type": "code",
   "execution_count": null,
   "id": "28b6fd8e-c295-4764-be65-4e217be8b313",
   "metadata": {},
   "outputs": [],
   "source": [
    "import seaborn as sns\n",
    "import pandas as pd\n",
    "import numpy as np\n",
    "import matplotlib.pyplot as plt\n",
    "from sklearn.linear_model import LinearRegression"
   ]
  },
  {
   "cell_type": "code",
   "execution_count": null,
   "id": "c36cda65-8a19-45cb-963e-b60f23febe6b",
   "metadata": {},
   "outputs": [],
   "source": [
    "sns.get_dataset_names()"
   ]
  },
  {
   "cell_type": "markdown",
   "id": "f70310f8-4e7c-4d6e-ab9b-f1a32d9348af",
   "metadata": {},
   "source": [
    "## Load data"
   ]
  },
  {
   "cell_type": "code",
   "execution_count": null,
   "id": "72f1f01d-6035-4ef3-811a-7436275f2f77",
   "metadata": {},
   "outputs": [],
   "source": [
    "data_tips = sns.load_dataset('tips')\n",
    "data_tips"
   ]
  },
  {
   "cell_type": "markdown",
   "id": "01fd36c8-a19f-4b13-b98e-33806dc7cb5b",
   "metadata": {},
   "source": [
    "## Explore data"
   ]
  },
  {
   "cell_type": "code",
   "execution_count": null,
   "id": "23855e48-d93e-4834-9582-7d3a045eef9b",
   "metadata": {},
   "outputs": [],
   "source": [
    "data_tips.head(10)"
   ]
  },
  {
   "cell_type": "code",
   "execution_count": null,
   "id": "8b3fbe78-907a-461f-9676-6f799e066e6a",
   "metadata": {},
   "outputs": [],
   "source": [
    "data_tips.tail(10)"
   ]
  },
  {
   "cell_type": "code",
   "execution_count": null,
   "id": "23b6d0d3-249b-45d7-ab08-d9c8a687e384",
   "metadata": {},
   "outputs": [],
   "source": [
    "# Add a new column with the tip in percent\n",
    "data_tips[\"tip_perc\"] = data_tips[\"tip\"] / data_tips[\"total_bill\"]\n",
    "data_tips"
   ]
  },
  {
   "cell_type": "code",
   "execution_count": null,
   "id": "9def0be8-6e0c-4492-905b-7802d0ba4c8b",
   "metadata": {},
   "outputs": [],
   "source": [
    "data_tips.info()"
   ]
  },
  {
   "cell_type": "code",
   "execution_count": null,
   "id": "01b90926-74bc-4235-91e9-55507a86b156",
   "metadata": {},
   "outputs": [],
   "source": [
    "data_tips[data_tips.duplicated(keep=False)]\n",
    "# There are two completely identical rows\n",
    "# There is not enough information in the data to determine if this would be an error that should be deduplicated or just a coincident\n",
    "# However duplicate rows reduce the variance in the data and may lead to higher overfiting of the linear regression model"
   ]
  },
  {
   "cell_type": "code",
   "execution_count": null,
   "id": "ab2f16dc-0e54-446a-b798-22f5af39754b",
   "metadata": {},
   "outputs": [],
   "source": [
    "# Summary for close_price\n",
    "data_tips.describe()"
   ]
  },
  {
   "cell_type": "code",
   "execution_count": null,
   "id": "902e4460-74c6-4552-b814-f7bfa516c746",
   "metadata": {},
   "outputs": [],
   "source": [
    "sns.scatterplot(data=data_tips, x=\"total_bill\", y=\"tip\")"
   ]
  },
  {
   "cell_type": "code",
   "execution_count": null,
   "id": "fbc650d9-95a3-44f0-8052-5decbca39934",
   "metadata": {},
   "outputs": [],
   "source": [
    "sns.scatterplot(data=data_tips, x=\"total_bill\", y=\"tip\", hue=\"time\")"
   ]
  },
  {
   "cell_type": "code",
   "execution_count": null,
   "id": "1685d259-4eb8-4ab8-a437-17c622c18afc",
   "metadata": {},
   "outputs": [],
   "source": [
    "plt.figure(figsize=(10,10))\n",
    "sns.scatterplot(data=data_tips, x=\"total_bill\", y=\"tip\", hue=\"time\", size=\"size\", sizes=(15, 150))"
   ]
  },
  {
   "cell_type": "code",
   "execution_count": null,
   "id": "a7c54f4c-1519-4285-a23a-242a0ca24ca5",
   "metadata": {},
   "outputs": [],
   "source": [
    "data_tips[data_tips['tip_perc'] == max(data_tips[\"tip_perc\"])]"
   ]
  },
  {
   "cell_type": "code",
   "execution_count": null,
   "id": "2a184f98-c772-461c-9de7-91be30849a93",
   "metadata": {},
   "outputs": [],
   "source": [
    "data_tips_female = data_tips[data_tips['sex'] == 'Female']\n",
    "data_tips_male = data_tips[data_tips['sex'] == 'Male']"
   ]
  },
  {
   "cell_type": "code",
   "execution_count": null,
   "id": "4d64ff9e-b49f-4e62-a4ff-eb432aa90e44",
   "metadata": {},
   "outputs": [],
   "source": [
    "data_tips_female['sex'].unique(), data_tips_male['sex'].unique()"
   ]
  },
  {
   "cell_type": "code",
   "execution_count": null,
   "id": "86bf76f1-5c42-4801-9aaa-b114249af12c",
   "metadata": {},
   "outputs": [],
   "source": [
    "data_tips_female.describe()"
   ]
  },
  {
   "cell_type": "code",
   "execution_count": null,
   "id": "af7d2445-3661-4aab-b45e-202034e12f9c",
   "metadata": {},
   "outputs": [],
   "source": [
    "data_tips_male.describe()"
   ]
  },
  {
   "cell_type": "code",
   "execution_count": null,
   "id": "9ff6342c-4653-43a6-994b-5b42e0b9ee35",
   "metadata": {},
   "outputs": [],
   "source": [
    "plt.figure(figsize=(10,10))\n",
    "sns.scatterplot(data=data_tips, x=\"total_bill\", y=\"tip_perc\", hue=\"time\", size=\"size\", sizes=(15, 150))"
   ]
  },
  {
   "cell_type": "markdown",
   "id": "95037518-d851-4beb-b492-ca2059a280a1",
   "metadata": {
    "tags": []
   },
   "source": [
    "## Modelling"
   ]
  },
  {
   "cell_type": "code",
   "execution_count": null,
   "id": "33f67eb6-3ade-4740-b176-19d6ddf45208",
   "metadata": {},
   "outputs": [],
   "source": [
    "X = data_tips.iloc[:, 0].values.reshape(-1, 1)\n",
    "Y = data_tips.iloc[:, 1].values.reshape(-1, 1)"
   ]
  },
  {
   "cell_type": "code",
   "execution_count": null,
   "id": "b1b57add-fdc2-4587-91af-8711918116ee",
   "metadata": {},
   "outputs": [],
   "source": [
    "linear_regressor = LinearRegression()\n",
    "lr = linear_regressor.fit(X, Y)"
   ]
  },
  {
   "cell_type": "code",
   "execution_count": null,
   "id": "8a4d5352-16cd-4b55-bc2d-97e1292c9aad",
   "metadata": {},
   "outputs": [],
   "source": [
    "Y_pred = lr.predict(X)"
   ]
  },
  {
   "cell_type": "code",
   "execution_count": null,
   "id": "ac7d5e7a-59d6-4369-a344-9e29784b1868",
   "metadata": {},
   "outputs": [],
   "source": [
    "lr.score(X, Y)"
   ]
  },
  {
   "cell_type": "code",
   "execution_count": null,
   "id": "91828053-08c9-4718-a627-0933e6d29e8c",
   "metadata": {},
   "outputs": [],
   "source": [
    "lr.intercept_"
   ]
  },
  {
   "cell_type": "code",
   "execution_count": null,
   "id": "24b5e57d-e095-4545-b6a2-30a1c8117085",
   "metadata": {},
   "outputs": [],
   "source": [
    "lr.coef_"
   ]
  },
  {
   "cell_type": "code",
   "execution_count": null,
   "id": "e0e4f24c-db44-476c-a8a5-adff49e1926f",
   "metadata": {},
   "outputs": [],
   "source": [
    "lr.feature_names_in_"
   ]
  },
  {
   "cell_type": "code",
   "execution_count": null,
   "id": "bc74ea30-0a9e-4511-a3b4-938fc85cd91e",
   "metadata": {},
   "outputs": [],
   "source": [
    "plt.scatter(X, Y)\n",
    "plt.plot(X, Y_pred, color='red')\n",
    "plt.show()"
   ]
  }
 ],
 "metadata": {
  "kernelspec": {
   "display_name": "Python 3 (ipykernel)",
   "language": "python",
   "name": "python3"
  },
  "language_info": {
   "codemirror_mode": {
    "name": "ipython",
    "version": 3
   },
   "file_extension": ".py",
   "mimetype": "text/x-python",
   "name": "python",
   "nbconvert_exporter": "python",
   "pygments_lexer": "ipython3",
   "version": "3.9.13"
  }
 },
 "nbformat": 4,
 "nbformat_minor": 5
}
